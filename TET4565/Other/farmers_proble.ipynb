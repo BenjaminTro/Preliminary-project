{
 "cells": [
  {
   "cell_type": "code",
   "execution_count": null,
   "metadata": {},
   "outputs": [],
   "source": [
    "#Farmer's problem:\n",
    "\n",
    "#Yield [t/acre]\n",
    "x1_yield = 2.5\n",
    "x2_yield = 3\n",
    "x3_yield = 20\n",
    "\n",
    "#Plant cost [$/acre]\n",
    "C1_cost = 150\n",
    "C2_cost = 230\n",
    "C3_cost = 260\n",
    "\n",
    "#Sell price [$/t]\n",
    "S1_price = 170\n",
    "S2_price = 150\n",
    "S3_price =  36\n",
    "\n",
    "#Purchase price [$/t]\n",
    "P1_price = 238\n",
    "P2_price = 210\n",
    "\n",
    "\n",
    "#constraints [t]: \n",
    "x1_w = 200\n",
    "x2_w = 240\n",
    "\n",
    "#Objective function: -> maximize profit\n",
    "land = 500 # [acre]\n",
    "sugar_qouta = 6000 #[t]\n",
    "\n",
    "#Unknown --> need to be sovled for in order to maximize profit:\n",
    "#land_used = \"x\" [acre\n",
    "x1_land = 1\n",
    "x2_land = 1\n",
    "x3_land = 1\n",
    "\n",
    "\n",
    "#Objective function:\n",
    "(x1_yield*x1_land*S1_price + x2_yield*x2_land*S2_price + x3_yield*x3_land*S3_price) - (C1_cost*x1_land*x1_yield + C2_cost*x2_land*x2_yield + C3_cost*x3_land*x3_yield) - (P1_price*x1_land + P2_price*x2_land)\n",
    "\n",
    "\n",
    "\n",
    "\n",
    "\n",
    "\n",
    "\n"
   ]
  }
 ],
 "metadata": {
  "language_info": {
   "name": "python"
  },
  "orig_nbformat": 4
 },
 "nbformat": 4,
 "nbformat_minor": 2
}
